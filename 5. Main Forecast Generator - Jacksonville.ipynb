{
 "cells": [
  {
   "cell_type": "code",
   "execution_count": null,
   "id": "2b638102",
   "metadata": {},
   "outputs": [],
   "source": [
    "import pandas as pd\n",
    "import numpy as np\n",
    "\n",
    "import itertools\n",
    "import random\n",
    "from math import sqrt\n",
    "import matplotlib.pyplot as plt\n",
    "\n",
    "from statsmodels.tsa.statespace.sarimax import SARIMAX\n",
    "from statsmodels.tsa.stattools import adfuller\n",
    "from statsmodels.graphics.tsaplots import plot_acf\n",
    "from statsmodels.graphics.tsaplots import plot_pacf\n",
    "\n",
    "from sklearn.metrics import mean_squared_error, mean_absolute_error"
   ]
  },
  {
   "cell_type": "code",
   "execution_count": null,
   "id": "01eb24fe",
   "metadata": {},
   "outputs": [],
   "source": [
    "df = pd.read_csv('Jacksonville KPI 2023.csv', parse_dates=['Date of Service'], index_col = 'Date of Service')\n",
    "\n",
    "#Differencing the 'Actual Trips' column due to a p_value greater than 0.05\n",
    "df['Actual Trips Diff']=df['Actual Trips'].diff()\n",
    "\n",
    "#Dropping the NaN values resulting from differencing\n",
    "df.dropna(inplace = True)\n",
    "\n",
    "pd.DataFrame(df)"
   ]
  },
  {
   "cell_type": "code",
   "execution_count": null,
   "id": "cc1c18b6",
   "metadata": {},
   "outputs": [],
   "source": [
    "#Using the Dickery-Fuller test, testing 'Actual Trips Diff' for stationary\n",
    "result_diff = adfuller(df['Actual Trips Diff'])\n",
    "print('ADF Statistic: %f' % result_diff[0])\n",
    "print('p-value %f' % result_diff[1])"
   ]
  },
  {
   "cell_type": "code",
   "execution_count": null,
   "id": "f0032838",
   "metadata": {},
   "outputs": [],
   "source": [
    "#Visualizing the Differenced Series\n",
    "df['Actual Trips Diff'].plot(figsize=(10,6))\n",
    "plt.show()"
   ]
  },
  {
   "cell_type": "code",
   "execution_count": null,
   "id": "c967cb79",
   "metadata": {},
   "outputs": [],
   "source": [
    "#Fitting the SARIMA Model for Exogenous Variable: Operating Hours \n",
    "#Best Parameters: (1, 1, 1, 0, 1, 2, 30)\n",
    "#Best Parameters: (1, 0, 0, 1, 1, 2, 30)\n",
    "operating_hours_series = df['Operating Hours']\n",
    "\n",
    "sarima_model = SARIMAX(operating_hours_series,\n",
    "               order = (1,0,0), #Using best parameters determined from testing\n",
    "               seasonal_order = (1,1,2,30))\n",
    "\n",
    "sarima_model_fit = sarima_model.fit(disp=False)\n",
    "\n",
    "#Forecasting for the next 14 days\n",
    "operating_hours_forecast = sarima_model_fit.forecast(steps=14)"
   ]
  },
  {
   "cell_type": "code",
   "execution_count": null,
   "id": "842f768a",
   "metadata": {},
   "outputs": [],
   "source": [
    "#Fitting the SARIMA Model for Exogenous Variable: Turn Down Transports\n",
    "#Best Parameters: (1, 0, 0, 2, 2, 1, 14)\n",
    "#Best Parameters: (0, 2, 2, 2, 0, 1, 30)\n",
    "turn_down_transports_series = df['Turn Down Transports']\n",
    "\n",
    "\n",
    "sarima_model = SARIMAX(turn_down_transports_series,\n",
    "               order = (0,2,2), #Here d=1 to indicate first differencing\n",
    "               seasonal_order = (2,0,1,30))\n",
    "               #exog=exog) This is the X in SARIMAX. Taking it out to use SARIMA instead\n",
    "    \n",
    "sarima_model_fit = sarima_model.fit(disp=False)\n",
    "\n",
    "#Forecasting for the next 14 days\n",
    "turn_down_transports_forecast = sarima_model_fit.forecast(steps=14)"
   ]
  },
  {
   "cell_type": "code",
   "execution_count": null,
   "id": "1d9e5e6d",
   "metadata": {},
   "outputs": [],
   "source": [
    "#Using the Forecasted Exogenous Variables in Your SARIMAX Forecast\n",
    "#Best Parameters from 1.: (2, 0, 2, 0, 1, 2, 30)\n",
    "#BEst Parameters from 4.: (2, 2, 1, 1, 1, 2, 30) #4. Usually gets better results\n",
    "\n",
    "#Fitting model for Actual Trips First\n",
    "actual_trips = df['Actual Trips']\n",
    "exog = df[['Operating Hours', 'Turn Down Transports']]\n",
    "\n",
    "sarimax_model = SARIMAX(actual_trips,\n",
    "               order = (2,2,1),\n",
    "               seasonal_order = (1,1,2,30),\n",
    "               exog=exog) #Comment out to test without exogenout values\n",
    "    \n",
    "sarimax_model_fit = sarimax_model.fit(disp=False)"
   ]
  },
  {
   "cell_type": "code",
   "execution_count": null,
   "id": "df173321",
   "metadata": {},
   "outputs": [],
   "source": [
    "#Combining Future Forecasts for Exogenous values into a DataFrame\n",
    "future_dates = pd.date_range(start=df.index[-1] + pd.Timedelta(days=1), periods = 14, freq = 'D')\n",
    "future_exog = pd.DataFrame({\n",
    "    'Operation Hours': operating_hours_forecast,\n",
    "    #'Units OSS': units_oos_forecast,\n",
    "    'Turn Down Transports': turn_down_transports_forecast},\n",
    "    index = future_dates)"
   ]
  },
  {
   "cell_type": "code",
   "execution_count": null,
   "id": "76e5e09e",
   "metadata": {},
   "outputs": [],
   "source": [
    "future_exog"
   ]
  },
  {
   "cell_type": "code",
   "execution_count": null,
   "id": "c0a7733c",
   "metadata": {},
   "outputs": [],
   "source": [
    "#Forecast \"Actual Trips\" for the next 14 days using the forecasted exogeneous variables\n",
    "predicted_actual_trips = sarimax_model_fit.forecast(steps=14, exog = future_exog) #steps=14 means predicting 2 weeks ahead.\n",
    "\n",
    "#Print Forecast\n",
    "print(predicted_actual_trips)"
   ]
  },
  {
   "cell_type": "code",
   "execution_count": null,
   "id": "777b1453",
   "metadata": {},
   "outputs": [],
   "source": [
    "#Visualizing Forecast Alongside Historical Data\n",
    "\n",
    "#Historical Values\n",
    "plt.figure(figsize=(15,6))\n",
    "plt.plot(df.index, df['Actual Trips'], label='Historical Actual Trips', color = 'blue')\n",
    "\n",
    "#Forecasted Values\n",
    "fututure_dates = pd.date_range(start=df.index[-1] + pd.Timedelta(days=1), periods=14, freq = 'D')\n",
    "plt.plot(future_dates, predicted_actual_trips, label = 'Forecasted Actual Trips', color = 'red')\n",
    "\n",
    "#Setting Title and Labels\n",
    "plt.legend()\n",
    "plt.xlabel('Date')\n",
    "plt.ylabel('Actual Trips')\n",
    "plt.title('Historical and Forecasted Actual Trips')\n",
    "\n",
    "#Save Figure\n",
    "plt.savefig('Actual Trips Forecasted Trajectory.pdf', bbox_inches='tight')\n",
    "\n",
    "plt.show()"
   ]
  },
  {
   "cell_type": "code",
   "execution_count": null,
   "id": "fe6da561",
   "metadata": {},
   "outputs": [],
   "source": [
    "#Combining forecasts and exogenous values\n",
    "forecast_df = future_exog.copy()\n",
    "#forecast_df['Forecasted Actual Trips'] = predicted_actual_trips\n",
    "\n",
    "forecast_df.insert(loc=0, column = 'Forecasted Actual Trips', value=predicted_actual_trips)\n",
    "\n",
    "forecast_df = forecast_df.round(0)\n",
    "\n",
    "pd.DataFrame(forecast_df)"
   ]
  },
  {
   "cell_type": "code",
   "execution_count": null,
   "id": "55e45f70",
   "metadata": {},
   "outputs": [],
   "source": [
    "#Saving DataFrame to a CSV file\n",
    "forecast_df.to_csv('Jacksonville KPI Forecast.csv', index=True, index_label='Date of Service')"
   ]
  },
  {
   "cell_type": "code",
   "execution_count": null,
   "id": "5f1b8d12",
   "metadata": {},
   "outputs": [],
   "source": []
  }
 ],
 "metadata": {
  "kernelspec": {
   "display_name": "Python 3 (ipykernel)",
   "language": "python",
   "name": "python3"
  },
  "language_info": {
   "codemirror_mode": {
    "name": "ipython",
    "version": 3
   },
   "file_extension": ".py",
   "mimetype": "text/x-python",
   "name": "python",
   "nbconvert_exporter": "python",
   "pygments_lexer": "ipython3",
   "version": "3.11.5"
  }
 },
 "nbformat": 4,
 "nbformat_minor": 5
}
